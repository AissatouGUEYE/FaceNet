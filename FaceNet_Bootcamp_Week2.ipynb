{
  "nbformat": 4,
  "nbformat_minor": 0,
  "metadata": {
    "colab": {
      "name": "FaceNet_Bootcamp_Week2.ipynb",
      "provenance": []
    },
    "kernelspec": {
      "name": "python3",
      "display_name": "Python 3"
    },
    "language_info": {
      "name": "python"
    },
    "accelerator": "GPU"
  },
  "cells": [
    {
      "cell_type": "code",
      "metadata": {
        "id": "p91bPECjZx3i"
      },
      "source": [
        "from sklearn.model_selection import train_test_split\n",
        "import tensorflow as tf\n",
        "import PIL\n",
        "import imageio\n",
        "import matplotlib.pyplot as plt\n",
        "import numpy as np\n",
        "import skimage.transform\n",
        "import torch\n",
        "import torch.nn as nn\n",
        "import torch.utils.data\n",
        "import torchvision\n",
        "from torchvision import datasets\n",
        "from torchvision import transforms\n",
        "import random\n",
        "from IPython import display\n",
        "from torch.utils.data import TensorDataset, DataLoader"
      ],
      "execution_count": 1,
      "outputs": []
    },
    {
      "cell_type": "code",
      "metadata": {
        "id": "DehvGWk-AGSX"
      },
      "source": [
        "np.random.seed(123)"
      ],
      "execution_count": 2,
      "outputs": []
    },
    {
      "cell_type": "code",
      "metadata": {
        "id": "wXpTvRVIKf-k"
      },
      "source": [
        "# The first loader is used for the Face Identification task: a multi-class classification task (hence supervised learning):\n",
        "from sklearn.datasets import fetch_lfw_people"
      ],
      "execution_count": 3,
      "outputs": []
    },
    {
      "cell_type": "code",
      "metadata": {
        "colab": {
          "base_uri": "https://localhost:8080/",
          "height": 35
        },
        "id": "22I2rcC5G0K3",
        "outputId": "ae00270b-f022-4c6a-ac83-508d96d5e7bf"
      },
      "source": [
        "device = 'cuda' if torch.cuda.is_available() else 'cpu'\n",
        "device"
      ],
      "execution_count": 18,
      "outputs": [
        {
          "output_type": "execute_result",
          "data": {
            "application/vnd.google.colaboratory.intrinsic+json": {
              "type": "string"
            },
            "text/plain": [
              "'cuda'"
            ]
          },
          "metadata": {},
          "execution_count": 18
        }
      ]
    },
    {
      "cell_type": "code",
      "metadata": {
        "colab": {
          "base_uri": "https://localhost:8080/"
        },
        "id": "A2CC14j0Nj9-",
        "outputId": "af01cb79-b28c-44d4-9d01-d2cfe4e442c4"
      },
      "source": [
        "lfw_people = fetch_lfw_people()\n",
        "#for name in lfw_people.target_names:\n",
        " # print(name)"
      ],
      "execution_count": 4,
      "outputs": [
        {
          "output_type": "stream",
          "text": [
            "Downloading LFW metadata: https://ndownloader.figshare.com/files/5976012\n",
            "Downloading LFW metadata: https://ndownloader.figshare.com/files/5976009\n",
            "Downloading LFW metadata: https://ndownloader.figshare.com/files/5976006\n",
            "Downloading LFW data (~200MB): https://ndownloader.figshare.com/files/5976015\n"
          ],
          "name": "stderr"
        }
      ]
    },
    {
      "cell_type": "code",
      "metadata": {
        "colab": {
          "base_uri": "https://localhost:8080/"
        },
        "id": "D0xgO-TFi8JW",
        "outputId": "3a422456-45e8-47af-b4f8-542ec5b201f8"
      },
      "source": [
        "lfw_people.images"
      ],
      "execution_count": 5,
      "outputs": [
        {
          "output_type": "execute_result",
          "data": {
            "text/plain": [
              "array([[[ 34.      ,  29.333334,  22.333334, ...,  20.      ,\n",
              "          25.666666,  30.666666],\n",
              "        [ 37.333332,  32.      ,  25.333334, ...,  21.      ,\n",
              "          26.666666,  32.      ],\n",
              "        [ 33.333332,  32.333332,  40.333332, ...,  23.666666,\n",
              "          28.      ,  35.666668],\n",
              "        ...,\n",
              "        [166.      ,  97.      ,  44.333332, ...,   9.666667,\n",
              "          14.333333,  12.333333],\n",
              "        [ 64.      ,  38.666668,  30.      , ...,  12.666667,\n",
              "          16.      ,  14.      ],\n",
              "        [ 30.666666,  29.      ,  26.333334, ...,  14.666667,\n",
              "          16.      ,  14.      ]],\n",
              "\n",
              "       [[158.      , 160.66667 , 169.66667 , ...,  74.333336,\n",
              "          28.      ,  15.666667],\n",
              "        [156.      , 155.33333 , 163.33333 , ...,  83.      ,\n",
              "          25.666666,  14.      ],\n",
              "        [146.66667 , 143.66667 , 144.66667 , ...,  82.333336,\n",
              "          26.      ,  14.666667],\n",
              "        ...,\n",
              "        [118.666664, 120.      , 170.      , ..., 131.33333 ,\n",
              "         127.333336, 126.      ],\n",
              "        [125.      , 117.666664, 141.33333 , ..., 133.33333 ,\n",
              "         132.      , 129.33333 ],\n",
              "        [128.66667 , 122.666664, 121.666664, ..., 138.66667 ,\n",
              "         135.33333 , 130.33333 ]],\n",
              "\n",
              "       [[ 77.      ,  81.333336,  88.      , ...,  71.      ,\n",
              "          80.666664,  65.333336],\n",
              "        [ 77.666664,  89.      , 104.666664, ...,  75.666664,\n",
              "          72.      ,  69.      ],\n",
              "        [ 83.      ,  97.      , 117.      , ...,  80.333336,\n",
              "          80.333336,  66.      ],\n",
              "        ...,\n",
              "        [ 13.333333,  16.      ,  32.      , ..., 183.66667 ,\n",
              "         131.      ,  58.333332],\n",
              "        [ 46.333332,  70.      ,  94.333336, ..., 188.66667 ,\n",
              "         143.66667 ,  65.      ],\n",
              "        [112.333336, 122.      , 118.      , ..., 192.      ,\n",
              "         145.33333 ,  66.333336]],\n",
              "\n",
              "       ...,\n",
              "\n",
              "       [[ 38.      ,  41.666668,  55.333332, ...,  28.666666,\n",
              "          26.333334,  29.333334],\n",
              "        [ 46.666668,  49.333332,  60.666668, ...,  30.333334,\n",
              "          26.333334,  31.      ],\n",
              "        [ 50.333332,  53.666668,  63.      , ...,  32.333332,\n",
              "          27.666666,  34.333332],\n",
              "        ...,\n",
              "        [ 71.      , 123.      , 204.66667 , ...,  58.333332,\n",
              "          47.      ,  38.      ],\n",
              "        [ 70.666664,  85.666664, 148.66667 , ...,  64.      ,\n",
              "          57.666668,  46.666668],\n",
              "        [ 70.333336,  71.666664,  97.333336, ...,  66.      ,\n",
              "          63.666668,  54.333332]],\n",
              "\n",
              "       [[ 16.666666,  24.333334,  60.333332, ..., 177.33333 ,\n",
              "         175.      , 174.33333 ],\n",
              "        [ 16.333334,  22.333334,  55.666668, ..., 177.33333 ,\n",
              "         174.66667 , 174.      ],\n",
              "        [ 18.333334,  25.666666,  61.      , ..., 175.33333 ,\n",
              "         172.66667 , 172.33333 ],\n",
              "        ...,\n",
              "        [ 21.666666,  21.333334,  22.666666, ..., 221.33333 ,\n",
              "         132.66667 ,  52.      ],\n",
              "        [ 22.      ,  21.666666,  22.333334, ..., 219.      ,\n",
              "         137.      ,  59.      ],\n",
              "        [ 22.333334,  22.      ,  22.666666, ..., 219.      ,\n",
              "         143.33333 ,  69.333336]],\n",
              "\n",
              "       [[ 58.333332,  48.      ,  20.      , ...,  66.      ,\n",
              "         101.666664,  94.666664],\n",
              "        [ 62.      ,  32.666668,  26.333334, ...,  50.      ,\n",
              "          89.666664, 101.333336],\n",
              "        [ 56.333332,  29.333334,  47.      , ...,  55.333332,\n",
              "          76.666664, 106.333336],\n",
              "        ...,\n",
              "        [116.333336, 106.333336,  95.      , ..., 113.333336,\n",
              "         100.333336,  88.      ],\n",
              "        [116.666664, 104.666664,  93.333336, ..., 115.666664,\n",
              "         103.666664, 112.      ],\n",
              "        [116.333336, 104.      ,  95.333336, ..., 116.      ,\n",
              "         106.333336, 143.33333 ]]], dtype=float32)"
            ]
          },
          "metadata": {},
          "execution_count": 5
        }
      ]
    },
    {
      "cell_type": "code",
      "metadata": {
        "colab": {
          "base_uri": "https://localhost:8080/"
        },
        "id": "UOzimif-R7db",
        "outputId": "4c6503fa-1ae3-4670-d3c2-c0e031995d00"
      },
      "source": [
        "lfw_people.data.shape"
      ],
      "execution_count": 6,
      "outputs": [
        {
          "output_type": "execute_result",
          "data": {
            "text/plain": [
              "(13233, 2914)"
            ]
          },
          "metadata": {},
          "execution_count": 6
        }
      ]
    },
    {
      "cell_type": "code",
      "metadata": {
        "colab": {
          "base_uri": "https://localhost:8080/"
        },
        "id": "Xe1vYXLKPQvb",
        "outputId": "9e5be301-7a51-498a-8f4e-0820d51d7d2e"
      },
      "source": [
        "lfw_people.images.shape"
      ],
      "execution_count": 7,
      "outputs": [
        {
          "output_type": "execute_result",
          "data": {
            "text/plain": [
              "(13233, 62, 47)"
            ]
          },
          "metadata": {},
          "execution_count": 7
        }
      ]
    },
    {
      "cell_type": "code",
      "metadata": {
        "id": "1DvaufcPdj1O"
      },
      "source": [
        "t_data = torch.from_numpy(lfw_people.images)"
      ],
      "execution_count": 8,
      "outputs": []
    },
    {
      "cell_type": "code",
      "metadata": {
        "id": "Hjdr_2d0CMdj"
      },
      "source": [
        "my_transforms = transforms.CenterCrop(220)"
      ],
      "execution_count": 9,
      "outputs": []
    },
    {
      "cell_type": "code",
      "metadata": {
        "id": "iNbVmKej0ayD"
      },
      "source": [
        "t_data = my_transforms(t_data)"
      ],
      "execution_count": 10,
      "outputs": []
    },
    {
      "cell_type": "code",
      "metadata": {
        "colab": {
          "base_uri": "https://localhost:8080/"
        },
        "id": "XGIeM0KzCgTq",
        "outputId": "5f87049d-b4f5-4fae-d76d-68bf2eb7758f"
      },
      "source": [
        "t_data"
      ],
      "execution_count": 11,
      "outputs": [
        {
          "output_type": "execute_result",
          "data": {
            "text/plain": [
              "tensor([[[0., 0., 0.,  ..., 0., 0., 0.],\n",
              "         [0., 0., 0.,  ..., 0., 0., 0.],\n",
              "         [0., 0., 0.,  ..., 0., 0., 0.],\n",
              "         ...,\n",
              "         [0., 0., 0.,  ..., 0., 0., 0.],\n",
              "         [0., 0., 0.,  ..., 0., 0., 0.],\n",
              "         [0., 0., 0.,  ..., 0., 0., 0.]],\n",
              "\n",
              "        [[0., 0., 0.,  ..., 0., 0., 0.],\n",
              "         [0., 0., 0.,  ..., 0., 0., 0.],\n",
              "         [0., 0., 0.,  ..., 0., 0., 0.],\n",
              "         ...,\n",
              "         [0., 0., 0.,  ..., 0., 0., 0.],\n",
              "         [0., 0., 0.,  ..., 0., 0., 0.],\n",
              "         [0., 0., 0.,  ..., 0., 0., 0.]],\n",
              "\n",
              "        [[0., 0., 0.,  ..., 0., 0., 0.],\n",
              "         [0., 0., 0.,  ..., 0., 0., 0.],\n",
              "         [0., 0., 0.,  ..., 0., 0., 0.],\n",
              "         ...,\n",
              "         [0., 0., 0.,  ..., 0., 0., 0.],\n",
              "         [0., 0., 0.,  ..., 0., 0., 0.],\n",
              "         [0., 0., 0.,  ..., 0., 0., 0.]],\n",
              "\n",
              "        ...,\n",
              "\n",
              "        [[0., 0., 0.,  ..., 0., 0., 0.],\n",
              "         [0., 0., 0.,  ..., 0., 0., 0.],\n",
              "         [0., 0., 0.,  ..., 0., 0., 0.],\n",
              "         ...,\n",
              "         [0., 0., 0.,  ..., 0., 0., 0.],\n",
              "         [0., 0., 0.,  ..., 0., 0., 0.],\n",
              "         [0., 0., 0.,  ..., 0., 0., 0.]],\n",
              "\n",
              "        [[0., 0., 0.,  ..., 0., 0., 0.],\n",
              "         [0., 0., 0.,  ..., 0., 0., 0.],\n",
              "         [0., 0., 0.,  ..., 0., 0., 0.],\n",
              "         ...,\n",
              "         [0., 0., 0.,  ..., 0., 0., 0.],\n",
              "         [0., 0., 0.,  ..., 0., 0., 0.],\n",
              "         [0., 0., 0.,  ..., 0., 0., 0.]],\n",
              "\n",
              "        [[0., 0., 0.,  ..., 0., 0., 0.],\n",
              "         [0., 0., 0.,  ..., 0., 0., 0.],\n",
              "         [0., 0., 0.,  ..., 0., 0., 0.],\n",
              "         ...,\n",
              "         [0., 0., 0.,  ..., 0., 0., 0.],\n",
              "         [0., 0., 0.,  ..., 0., 0., 0.],\n",
              "         [0., 0., 0.,  ..., 0., 0., 0.]]])"
            ]
          },
          "metadata": {},
          "execution_count": 11
        }
      ]
    },
    {
      "cell_type": "code",
      "metadata": {
        "colab": {
          "base_uri": "https://localhost:8080/"
        },
        "id": "dUP5TM-A--7j",
        "outputId": "c28a8ea2-4273-4c4d-fed6-beb12ea8b1ec"
      },
      "source": [
        "t_data.shape"
      ],
      "execution_count": 12,
      "outputs": [
        {
          "output_type": "execute_result",
          "data": {
            "text/plain": [
              "torch.Size([13233, 220, 220])"
            ]
          },
          "metadata": {},
          "execution_count": 12
        }
      ]
    },
    {
      "cell_type": "code",
      "metadata": {
        "id": "DWRTPZNG-yf9"
      },
      "source": [
        "t_data = t_data.unsqueeze(1)"
      ],
      "execution_count": 13,
      "outputs": []
    },
    {
      "cell_type": "code",
      "metadata": {
        "colab": {
          "base_uri": "https://localhost:8080/"
        },
        "id": "focnENHy_DHt",
        "outputId": "d84fa23c-3453-41fe-80f8-59fd0c475fc2"
      },
      "source": [
        "t_data.shape"
      ],
      "execution_count": 14,
      "outputs": [
        {
          "output_type": "execute_result",
          "data": {
            "text/plain": [
              "torch.Size([13233, 1, 220, 220])"
            ]
          },
          "metadata": {},
          "execution_count": 14
        }
      ]
    },
    {
      "cell_type": "code",
      "metadata": {
        "colab": {
          "base_uri": "https://localhost:8080/"
        },
        "id": "qPZrIFclDOcX",
        "outputId": "7f19f4d4-b99f-4e36-a7cb-ead09dcec4f1"
      },
      "source": [
        "t_data.shape"
      ],
      "execution_count": 15,
      "outputs": [
        {
          "output_type": "execute_result",
          "data": {
            "text/plain": [
              "torch.Size([13233, 1, 220, 220])"
            ]
          },
          "metadata": {},
          "execution_count": 15
        }
      ]
    },
    {
      "cell_type": "code",
      "metadata": {
        "colab": {
          "base_uri": "https://localhost:8080/"
        },
        "id": "FNMznTayFrUa",
        "outputId": "394239e4-d65d-405f-c08e-374095fb37d7"
      },
      "source": [
        "stacked_data = np.stack((t_data,)*3, axis=-1)\n",
        "t_data.shape"
      ],
      "execution_count": 16,
      "outputs": [
        {
          "output_type": "execute_result",
          "data": {
            "text/plain": [
              "torch.Size([13233, 1, 220, 220])"
            ]
          },
          "metadata": {},
          "execution_count": 16
        }
      ]
    },
    {
      "cell_type": "code",
      "metadata": {
        "colab": {
          "base_uri": "https://localhost:8080/"
        },
        "id": "a3VQhRe3PWby",
        "outputId": "bb6a474d-9aa8-4c78-b4cd-b6e28f22be5d"
      },
      "source": [
        "# Each of the 13233 faces is assigned to a single person id in the target array:\n",
        "lfw_people.target.shape"
      ],
      "execution_count": 11,
      "outputs": [
        {
          "output_type": "execute_result",
          "data": {
            "text/plain": [
              "(13233,)"
            ]
          },
          "metadata": {},
          "execution_count": 11
        }
      ]
    },
    {
      "cell_type": "code",
      "metadata": {
        "colab": {
          "base_uri": "https://localhost:8080/"
        },
        "id": "3UEmb1mZPphG",
        "outputId": "1f79da80-b70e-4015-a37b-7da19c0f0893"
      },
      "source": [
        "list(lfw_people.target[:10])"
      ],
      "execution_count": 12,
      "outputs": [
        {
          "output_type": "execute_result",
          "data": {
            "text/plain": [
              "[5360, 3434, 3807, 26, 3957, 439, 2683, 3734, 5465, 3445]"
            ]
          },
          "metadata": {},
          "execution_count": 12
        }
      ]
    },
    {
      "cell_type": "code",
      "metadata": {
        "colab": {
          "base_uri": "https://localhost:8080/"
        },
        "id": "lmYRnP2E3gzo",
        "outputId": "8e825d8a-e6fd-45a0-9808-98c511d67cd9"
      },
      "source": [
        "lfw_people.target"
      ],
      "execution_count": 13,
      "outputs": [
        {
          "output_type": "execute_result",
          "data": {
            "text/plain": [
              "array([5360, 3434, 3807, ..., 2175,  373, 2941])"
            ]
          },
          "metadata": {},
          "execution_count": 13
        }
      ]
    },
    {
      "cell_type": "code",
      "metadata": {
        "id": "tTNV7KcayKt0"
      },
      "source": [
        "X_train, X_test, Y_train, Y_test = train_test_split(t_data, lfw_people.target, shuffle=False, test_size=.20)"
      ],
      "execution_count": 46,
      "outputs": []
    },
    {
      "cell_type": "code",
      "metadata": {
        "colab": {
          "base_uri": "https://localhost:8080/"
        },
        "id": "oCfLVvGw_L9v",
        "outputId": "e73d350c-2ee9-4223-e3b1-76f51584094d"
      },
      "source": [
        "X_train.shape"
      ],
      "execution_count": 47,
      "outputs": [
        {
          "output_type": "execute_result",
          "data": {
            "text/plain": [
              "torch.Size([10586, 1, 220, 220])"
            ]
          },
          "metadata": {},
          "execution_count": 47
        }
      ]
    },
    {
      "cell_type": "code",
      "metadata": {
        "id": "mmqhFn8kzzEJ"
      },
      "source": [
        "train_data = torch.Tensor(X_train) # transform to torch tensor\n",
        "train_target = torch.Tensor(Y_train)\n",
        "\n",
        "my_dataset = TensorDataset(train_data,train_target) # create your datset\n",
        "train_loader = DataLoader(my_dataset) # create your dataloader"
      ],
      "execution_count": 48,
      "outputs": []
    },
    {
      "cell_type": "code",
      "metadata": {
        "id": "3ELkUDYi1I2w"
      },
      "source": [
        "test_data = torch.Tensor(X_test) # transform to torch tensor\n",
        "test_target = torch.Tensor(Y_test)\n",
        "\n",
        "dataset = TensorDataset(test_data,test_target) # create your datset\n",
        "test_loader = DataLoader(dataset) # create your dataloader"
      ],
      "execution_count": 49,
      "outputs": []
    },
    {
      "cell_type": "code",
      "metadata": {
        "id": "2PSc2_bE357E"
      },
      "source": [
        "class DeepConvolutionalNetwork(nn.Module):\n",
        "  \"\"\"Convolutional network that can go arbitrary deep.\"\"\"\n",
        "  \n",
        "  def __init__(self):\n",
        "    super().__init__()\n",
        "\n",
        "    conv_blocks = []\n",
        "    \n",
        "    conv_blocks.append(nn.Sequential(\n",
        "        \n",
        "        #conv 1\n",
        "      nn.Conv2d(3, 64, kernel_size=7, stride=2),\n",
        "      #pool 1\n",
        "      nn.MaxPool2d(2),\n",
        "      nn.ReLU(inplace=True),\n",
        "\n",
        "      #conv 2a\n",
        "      nn.Conv2d(64, 64, kernel_size=1, stride=1),\n",
        "      nn.ReLU(inplace=True),\n",
        "\n",
        "      #conv 2\n",
        "      nn.Conv2d(64, 192, kernel_size=3, stride=1),\n",
        "      #pool 2\n",
        "      nn.MaxPool2d(2),\n",
        "      nn.ReLU(inplace=True),\n",
        "      \n",
        "      #conv 3a\n",
        "      nn.Conv2d(192, 192, kernel_size=1, stride=1),\n",
        "      nn.ReLU(inplace=True),\n",
        "\n",
        "      #conv 3\n",
        "      nn.Conv2d(192, 384, kernel_size=3, stride=1),\n",
        "      #pool 3\n",
        "      nn.MaxPool2d(2),\n",
        "      nn.ReLU(inplace=True),\n",
        "\n",
        "      #conv 4a\n",
        "      nn.Conv2d(384, 384, kernel_size=1, stride=1),\n",
        "      nn.ReLU(inplace=True),\n",
        "\n",
        "      #conv 4\n",
        "      nn.Conv2d(384, 256, kernel_size=3, stride=1),\n",
        "      nn.ReLU(inplace=True),\n",
        "\n",
        "      #conv 5a\n",
        "      nn.Conv2d(256, 256, kernel_size=1, stride=1),\n",
        "      nn.ReLU(inplace=True),\n",
        "\n",
        "      #conv 5\n",
        "      nn.Conv2d(256, 256, kernel_size=3, stride=1),\n",
        "      nn.ReLU(inplace=True),\n",
        "\n",
        "      #conv 6a\n",
        "      nn.Conv2d(256, 256, kernel_size=1, stride=1),\n",
        "      nn.ReLU(inplace=True),\n",
        "\n",
        "      #conv 6\n",
        "      nn.Conv2d(256, 256, kernel_size=3, stride=1),\n",
        "      nn.MaxPool2d(2),\n",
        "      nn.ReLU(inplace=True),\n",
        "\n",
        "      #fc 1\n",
        "      nn.Linear(256, 128),\n",
        "\n",
        "      #fc 2\n",
        "      nn.Linear(128, 128),\n",
        "\n",
        "      #fc 7128\n",
        "      nn.Linear(128, 128),\n",
        "\n",
        "    ))\n",
        "    \n",
        "    # It's important to wrap layers into ModuleList so the PyTorch knows that\n",
        "    # the self.conv_blocks has parameters to optimize.\n",
        "    self.conv_blocks = nn.ModuleList(conv_blocks)\n",
        "      \n",
        "   \n",
        "  def apply_conv_block(self, conv_block, x):\n",
        "    output = conv_block(x)\n",
        "    return output\n",
        "\n",
        "  def forward(self, x):\n",
        "    for block in self.conv_blocks:\n",
        "      x = self.apply_conv_block(block, x) \n",
        "    x = self.linear(x.view(x.size(0), -1))\n",
        "    return x"
      ],
      "execution_count": 50,
      "outputs": []
    },
    {
      "cell_type": "code",
      "metadata": {
        "id": "po70qEe9Rdka"
      },
      "source": [
        "# DeepConvolutionalNetwork()"
      ],
      "execution_count": 1,
      "outputs": []
    },
    {
      "cell_type": "code",
      "metadata": {
        "colab": {
          "base_uri": "https://localhost:8080/"
        },
        "id": "F6svI0MqdbtP",
        "outputId": "9240c5f2-556b-4b80-d999-881472cc0655"
      },
      "source": [
        "lfw_people.target"
      ],
      "execution_count": 18,
      "outputs": [
        {
          "output_type": "execute_result",
          "data": {
            "text/plain": [
              "array([5360, 3434, 3807, ..., 2175,  373, 2941])"
            ]
          },
          "metadata": {},
          "execution_count": 18
        }
      ]
    },
    {
      "cell_type": "code",
      "metadata": {
        "colab": {
          "base_uri": "https://localhost:8080/"
        },
        "id": "XlvaTJy3o_Q3",
        "outputId": "3f2d466d-55c4-49bc-b9c1-1e0a9d2b9416"
      },
      "source": [
        "X_train.shape"
      ],
      "execution_count": 19,
      "outputs": [
        {
          "output_type": "execute_result",
          "data": {
            "text/plain": [
              "torch.Size([10586, 220, 220])"
            ]
          },
          "metadata": {},
          "execution_count": 19
        }
      ]
    },
    {
      "cell_type": "code",
      "metadata": {
        "colab": {
          "base_uri": "https://localhost:8080/"
        },
        "id": "HAM_RuAmpGmi",
        "outputId": "136d3df0-e9e9-40ff-d9c9-dc58d6e0471c"
      },
      "source": [
        "t_data.shape"
      ],
      "execution_count": 51,
      "outputs": [
        {
          "output_type": "execute_result",
          "data": {
            "text/plain": [
              "torch.Size([13233, 1, 220, 220])"
            ]
          },
          "metadata": {},
          "execution_count": 51
        }
      ]
    },
    {
      "cell_type": "code",
      "metadata": {
        "id": "HFPOgk0YmTSl"
      },
      "source": [
        "#X_train = tf.cast(X_train, dtype=tf.int64)"
      ],
      "execution_count": 22,
      "outputs": []
    },
    {
      "cell_type": "code",
      "metadata": {
        "id": "esui6wTnoFNw"
      },
      "source": [
        "#X_test = tf.cast(X_test, dtype= tf.int64)"
      ],
      "execution_count": 23,
      "outputs": []
    },
    {
      "cell_type": "code",
      "metadata": {
        "id": "J7EArpR_dXM8"
      },
      "source": [
        "def train(model, criterion, data_loader, optimizer, num_epochs):\n",
        "    \"\"\"Simple training loop for a PyTorch model.\"\"\" \n",
        "    \n",
        "    # Make sure model is in training mode.\n",
        "    model.train()\n",
        "    \n",
        "    # Move model to the device.\n",
        "    #model.to(device)\n",
        "    \n",
        "    # Exponential moving average of the loss.\n",
        "    ema_loss = None\n",
        "    \n",
        "    # Loop over epochs.\n",
        "    for epoch in range(num_epochs):    \n",
        "      \n",
        "    # Loop over data.\n",
        "      for batch_idx, (data, target) in enumerate(data_loader):\n",
        "            \n",
        "          # Forward pass.\n",
        "          output = model(data)\n",
        "          loss = criterion(output, target)\n",
        "          \n",
        "          # Backward pass.\n",
        "          optimizer.zero_grad()\n",
        "          loss.backward()\n",
        "          optimizer.step()\n",
        "          \n",
        "          # NOTE: It is important to call .item() on the loss before summing.\n",
        "          if ema_loss is None:\n",
        "            ema_loss = loss.item()\n",
        "          else:\n",
        "            ema_loss += (loss.item() - ema_loss) * 0.01 \n",
        "          \n",
        "      # Print out progress the end of epoch.\n",
        "      print('Train Epoch: {} \\tLoss: {:.6f}'.format(\n",
        "            epoch, ema_loss),\n",
        "      )\n",
        "              \n",
        "              \n",
        "def test(model, data_loader):\n",
        "    \"\"\"Measures the accuracy of a model on a data set.\"\"\"\n",
        "    \n",
        "    # Make sure the model is in evaluation mode.\n",
        "    model.eval()\n",
        "    correct = 0\n",
        "\n",
        "    # We do not need to maintain intermediate activations while testing.\n",
        "    with torch.no_grad():   \n",
        "        \n",
        "        # Loop over test data.\n",
        "        for data, target in data_loader:\n",
        "          \n",
        "            # Forward pass.\n",
        "            output = model(data)\n",
        "            \n",
        "            # Get the label corresponding to the highest predicted probability.\n",
        "            pred = output.argmax(dim=1, keepdim=True)\n",
        "            \n",
        "            # Count number of correct predictions.\n",
        "            correct += pred.cpu().eq(target.view_as(pred)).sum().item()\n",
        "\n",
        "    # Print test accuracy.\n",
        "    percent = 100. * correct / len(data_loader.dataset)\n",
        "    print(f'Accuracy: {correct}/{len(data_loader.dataset)} ({percent:.0f}%)')\n",
        "    return percent\n",
        "   "
      ],
      "execution_count": 52,
      "outputs": []
    },
    {
      "cell_type": "code",
      "metadata": {
        "colab": {
          "base_uri": "https://localhost:8080/",
          "height": 392
        },
        "id": "Gjt1-aToRhDX",
        "outputId": "11f795cf-8fc4-4efa-c31b-3ae2be0dfd1c"
      },
      "source": [
        "print(f'Training ...')\n",
        "conv_model = DeepConvolutionalNetwork()\n",
        "optimizer = torch.optim.SGD(conv_model.parameters(), lr=1e-1)\n",
        "\n",
        "train(conv_model, nn.CrossEntropyLoss(), train_loader, optimizer, num_epochs=1)\n",
        "\n",
        "accuracy = test(conv_model, test_loader)\n",
        "print('Done.')"
      ],
      "execution_count": 53,
      "outputs": [
        {
          "output_type": "stream",
          "text": [
            "Training ...\n"
          ],
          "name": "stdout"
        },
        {
          "output_type": "error",
          "ename": "RuntimeError",
          "evalue": "ignored",
          "traceback": [
            "\u001b[0;31m---------------------------------------------------------------------------\u001b[0m",
            "\u001b[0;31mRuntimeError\u001b[0m                              Traceback (most recent call last)",
            "\u001b[0;32m<ipython-input-53-1617403246fa>\u001b[0m in \u001b[0;36m<module>\u001b[0;34m()\u001b[0m\n\u001b[1;32m      3\u001b[0m \u001b[0moptimizer\u001b[0m \u001b[0;34m=\u001b[0m \u001b[0mtorch\u001b[0m\u001b[0;34m.\u001b[0m\u001b[0moptim\u001b[0m\u001b[0;34m.\u001b[0m\u001b[0mSGD\u001b[0m\u001b[0;34m(\u001b[0m\u001b[0mconv_model\u001b[0m\u001b[0;34m.\u001b[0m\u001b[0mparameters\u001b[0m\u001b[0;34m(\u001b[0m\u001b[0;34m)\u001b[0m\u001b[0;34m,\u001b[0m \u001b[0mlr\u001b[0m\u001b[0;34m=\u001b[0m\u001b[0;36m1e-1\u001b[0m\u001b[0;34m)\u001b[0m\u001b[0;34m\u001b[0m\u001b[0;34m\u001b[0m\u001b[0m\n\u001b[1;32m      4\u001b[0m \u001b[0;34m\u001b[0m\u001b[0m\n\u001b[0;32m----> 5\u001b[0;31m \u001b[0mtrain\u001b[0m\u001b[0;34m(\u001b[0m\u001b[0mconv_model\u001b[0m\u001b[0;34m,\u001b[0m \u001b[0mnn\u001b[0m\u001b[0;34m.\u001b[0m\u001b[0mCrossEntropyLoss\u001b[0m\u001b[0;34m(\u001b[0m\u001b[0;34m)\u001b[0m\u001b[0;34m,\u001b[0m \u001b[0mtrain_loader\u001b[0m\u001b[0;34m,\u001b[0m \u001b[0moptimizer\u001b[0m\u001b[0;34m,\u001b[0m \u001b[0mnum_epochs\u001b[0m\u001b[0;34m=\u001b[0m\u001b[0;36m1\u001b[0m\u001b[0;34m)\u001b[0m\u001b[0;34m\u001b[0m\u001b[0;34m\u001b[0m\u001b[0m\n\u001b[0m\u001b[1;32m      6\u001b[0m \u001b[0;34m\u001b[0m\u001b[0m\n\u001b[1;32m      7\u001b[0m \u001b[0maccuracy\u001b[0m \u001b[0;34m=\u001b[0m \u001b[0mtest\u001b[0m\u001b[0;34m(\u001b[0m\u001b[0mconv_model\u001b[0m\u001b[0;34m,\u001b[0m \u001b[0mtest_loader\u001b[0m\u001b[0;34m)\u001b[0m\u001b[0;34m\u001b[0m\u001b[0;34m\u001b[0m\u001b[0m\n",
            "\u001b[0;32m<ipython-input-52-bc37f496fd19>\u001b[0m in \u001b[0;36mtrain\u001b[0;34m(model, criterion, data_loader, optimizer, num_epochs)\u001b[0m\n\u001b[1;32m     18\u001b[0m \u001b[0;34m\u001b[0m\u001b[0m\n\u001b[1;32m     19\u001b[0m           \u001b[0;31m# Forward pass.\u001b[0m\u001b[0;34m\u001b[0m\u001b[0;34m\u001b[0m\u001b[0;34m\u001b[0m\u001b[0m\n\u001b[0;32m---> 20\u001b[0;31m           \u001b[0moutput\u001b[0m \u001b[0;34m=\u001b[0m \u001b[0mmodel\u001b[0m\u001b[0;34m(\u001b[0m\u001b[0mdata\u001b[0m\u001b[0;34m)\u001b[0m\u001b[0;34m\u001b[0m\u001b[0;34m\u001b[0m\u001b[0m\n\u001b[0m\u001b[1;32m     21\u001b[0m           \u001b[0mloss\u001b[0m \u001b[0;34m=\u001b[0m \u001b[0mcriterion\u001b[0m\u001b[0;34m(\u001b[0m\u001b[0moutput\u001b[0m\u001b[0;34m,\u001b[0m \u001b[0mtarget\u001b[0m\u001b[0;34m)\u001b[0m\u001b[0;34m\u001b[0m\u001b[0;34m\u001b[0m\u001b[0m\n\u001b[1;32m     22\u001b[0m \u001b[0;34m\u001b[0m\u001b[0m\n",
            "\u001b[0;32m/usr/local/lib/python3.7/dist-packages/torch/nn/modules/module.py\u001b[0m in \u001b[0;36m_call_impl\u001b[0;34m(self, *input, **kwargs)\u001b[0m\n\u001b[1;32m   1049\u001b[0m         if not (self._backward_hooks or self._forward_hooks or self._forward_pre_hooks or _global_backward_hooks\n\u001b[1;32m   1050\u001b[0m                 or _global_forward_hooks or _global_forward_pre_hooks):\n\u001b[0;32m-> 1051\u001b[0;31m             \u001b[0;32mreturn\u001b[0m \u001b[0mforward_call\u001b[0m\u001b[0;34m(\u001b[0m\u001b[0;34m*\u001b[0m\u001b[0minput\u001b[0m\u001b[0;34m,\u001b[0m \u001b[0;34m**\u001b[0m\u001b[0mkwargs\u001b[0m\u001b[0;34m)\u001b[0m\u001b[0;34m\u001b[0m\u001b[0;34m\u001b[0m\u001b[0m\n\u001b[0m\u001b[1;32m   1052\u001b[0m         \u001b[0;31m# Do not call functions when jit is used\u001b[0m\u001b[0;34m\u001b[0m\u001b[0;34m\u001b[0m\u001b[0;34m\u001b[0m\u001b[0m\n\u001b[1;32m   1053\u001b[0m         \u001b[0mfull_backward_hooks\u001b[0m\u001b[0;34m,\u001b[0m \u001b[0mnon_full_backward_hooks\u001b[0m \u001b[0;34m=\u001b[0m \u001b[0;34m[\u001b[0m\u001b[0;34m]\u001b[0m\u001b[0;34m,\u001b[0m \u001b[0;34m[\u001b[0m\u001b[0;34m]\u001b[0m\u001b[0;34m\u001b[0m\u001b[0;34m\u001b[0m\u001b[0m\n",
            "\u001b[0;32m<ipython-input-50-5f3d95b682f0>\u001b[0m in \u001b[0;36mforward\u001b[0;34m(self, x)\u001b[0m\n\u001b[1;32m     82\u001b[0m   \u001b[0;32mdef\u001b[0m \u001b[0mforward\u001b[0m\u001b[0;34m(\u001b[0m\u001b[0mself\u001b[0m\u001b[0;34m,\u001b[0m \u001b[0mx\u001b[0m\u001b[0;34m)\u001b[0m\u001b[0;34m:\u001b[0m\u001b[0;34m\u001b[0m\u001b[0;34m\u001b[0m\u001b[0m\n\u001b[1;32m     83\u001b[0m     \u001b[0;32mfor\u001b[0m \u001b[0mblock\u001b[0m \u001b[0;32min\u001b[0m \u001b[0mself\u001b[0m\u001b[0;34m.\u001b[0m\u001b[0mconv_blocks\u001b[0m\u001b[0;34m:\u001b[0m\u001b[0;34m\u001b[0m\u001b[0;34m\u001b[0m\u001b[0m\n\u001b[0;32m---> 84\u001b[0;31m       \u001b[0mx\u001b[0m \u001b[0;34m=\u001b[0m \u001b[0mself\u001b[0m\u001b[0;34m.\u001b[0m\u001b[0mapply_conv_block\u001b[0m\u001b[0;34m(\u001b[0m\u001b[0mblock\u001b[0m\u001b[0;34m,\u001b[0m \u001b[0mx\u001b[0m\u001b[0;34m)\u001b[0m\u001b[0;34m\u001b[0m\u001b[0;34m\u001b[0m\u001b[0m\n\u001b[0m\u001b[1;32m     85\u001b[0m     \u001b[0mx\u001b[0m \u001b[0;34m=\u001b[0m \u001b[0mself\u001b[0m\u001b[0;34m.\u001b[0m\u001b[0mlinear\u001b[0m\u001b[0;34m(\u001b[0m\u001b[0mx\u001b[0m\u001b[0;34m.\u001b[0m\u001b[0mview\u001b[0m\u001b[0;34m(\u001b[0m\u001b[0mx\u001b[0m\u001b[0;34m.\u001b[0m\u001b[0msize\u001b[0m\u001b[0;34m(\u001b[0m\u001b[0;36m0\u001b[0m\u001b[0;34m)\u001b[0m\u001b[0;34m,\u001b[0m \u001b[0;34m-\u001b[0m\u001b[0;36m1\u001b[0m\u001b[0;34m)\u001b[0m\u001b[0;34m)\u001b[0m\u001b[0;34m\u001b[0m\u001b[0;34m\u001b[0m\u001b[0m\n\u001b[1;32m     86\u001b[0m     \u001b[0;32mreturn\u001b[0m \u001b[0mx\u001b[0m\u001b[0;34m\u001b[0m\u001b[0;34m\u001b[0m\u001b[0m\n",
            "\u001b[0;32m<ipython-input-50-5f3d95b682f0>\u001b[0m in \u001b[0;36mapply_conv_block\u001b[0;34m(self, conv_block, x)\u001b[0m\n\u001b[1;32m     77\u001b[0m \u001b[0;34m\u001b[0m\u001b[0m\n\u001b[1;32m     78\u001b[0m   \u001b[0;32mdef\u001b[0m \u001b[0mapply_conv_block\u001b[0m\u001b[0;34m(\u001b[0m\u001b[0mself\u001b[0m\u001b[0;34m,\u001b[0m \u001b[0mconv_block\u001b[0m\u001b[0;34m,\u001b[0m \u001b[0mx\u001b[0m\u001b[0;34m)\u001b[0m\u001b[0;34m:\u001b[0m\u001b[0;34m\u001b[0m\u001b[0;34m\u001b[0m\u001b[0m\n\u001b[0;32m---> 79\u001b[0;31m     \u001b[0moutput\u001b[0m \u001b[0;34m=\u001b[0m \u001b[0mconv_block\u001b[0m\u001b[0;34m(\u001b[0m\u001b[0mx\u001b[0m\u001b[0;34m)\u001b[0m\u001b[0;34m\u001b[0m\u001b[0;34m\u001b[0m\u001b[0m\n\u001b[0m\u001b[1;32m     80\u001b[0m     \u001b[0;32mreturn\u001b[0m \u001b[0moutput\u001b[0m\u001b[0;34m\u001b[0m\u001b[0;34m\u001b[0m\u001b[0m\n\u001b[1;32m     81\u001b[0m \u001b[0;34m\u001b[0m\u001b[0m\n",
            "\u001b[0;32m/usr/local/lib/python3.7/dist-packages/torch/nn/modules/module.py\u001b[0m in \u001b[0;36m_call_impl\u001b[0;34m(self, *input, **kwargs)\u001b[0m\n\u001b[1;32m   1049\u001b[0m         if not (self._backward_hooks or self._forward_hooks or self._forward_pre_hooks or _global_backward_hooks\n\u001b[1;32m   1050\u001b[0m                 or _global_forward_hooks or _global_forward_pre_hooks):\n\u001b[0;32m-> 1051\u001b[0;31m             \u001b[0;32mreturn\u001b[0m \u001b[0mforward_call\u001b[0m\u001b[0;34m(\u001b[0m\u001b[0;34m*\u001b[0m\u001b[0minput\u001b[0m\u001b[0;34m,\u001b[0m \u001b[0;34m**\u001b[0m\u001b[0mkwargs\u001b[0m\u001b[0;34m)\u001b[0m\u001b[0;34m\u001b[0m\u001b[0;34m\u001b[0m\u001b[0m\n\u001b[0m\u001b[1;32m   1052\u001b[0m         \u001b[0;31m# Do not call functions when jit is used\u001b[0m\u001b[0;34m\u001b[0m\u001b[0;34m\u001b[0m\u001b[0;34m\u001b[0m\u001b[0m\n\u001b[1;32m   1053\u001b[0m         \u001b[0mfull_backward_hooks\u001b[0m\u001b[0;34m,\u001b[0m \u001b[0mnon_full_backward_hooks\u001b[0m \u001b[0;34m=\u001b[0m \u001b[0;34m[\u001b[0m\u001b[0;34m]\u001b[0m\u001b[0;34m,\u001b[0m \u001b[0;34m[\u001b[0m\u001b[0;34m]\u001b[0m\u001b[0;34m\u001b[0m\u001b[0;34m\u001b[0m\u001b[0m\n",
            "\u001b[0;32m/usr/local/lib/python3.7/dist-packages/torch/nn/modules/container.py\u001b[0m in \u001b[0;36mforward\u001b[0;34m(self, input)\u001b[0m\n\u001b[1;32m    137\u001b[0m     \u001b[0;32mdef\u001b[0m \u001b[0mforward\u001b[0m\u001b[0;34m(\u001b[0m\u001b[0mself\u001b[0m\u001b[0;34m,\u001b[0m \u001b[0minput\u001b[0m\u001b[0;34m)\u001b[0m\u001b[0;34m:\u001b[0m\u001b[0;34m\u001b[0m\u001b[0;34m\u001b[0m\u001b[0m\n\u001b[1;32m    138\u001b[0m         \u001b[0;32mfor\u001b[0m \u001b[0mmodule\u001b[0m \u001b[0;32min\u001b[0m \u001b[0mself\u001b[0m\u001b[0;34m:\u001b[0m\u001b[0;34m\u001b[0m\u001b[0;34m\u001b[0m\u001b[0m\n\u001b[0;32m--> 139\u001b[0;31m             \u001b[0minput\u001b[0m \u001b[0;34m=\u001b[0m \u001b[0mmodule\u001b[0m\u001b[0;34m(\u001b[0m\u001b[0minput\u001b[0m\u001b[0;34m)\u001b[0m\u001b[0;34m\u001b[0m\u001b[0;34m\u001b[0m\u001b[0m\n\u001b[0m\u001b[1;32m    140\u001b[0m         \u001b[0;32mreturn\u001b[0m \u001b[0minput\u001b[0m\u001b[0;34m\u001b[0m\u001b[0;34m\u001b[0m\u001b[0m\n\u001b[1;32m    141\u001b[0m \u001b[0;34m\u001b[0m\u001b[0m\n",
            "\u001b[0;32m/usr/local/lib/python3.7/dist-packages/torch/nn/modules/module.py\u001b[0m in \u001b[0;36m_call_impl\u001b[0;34m(self, *input, **kwargs)\u001b[0m\n\u001b[1;32m   1049\u001b[0m         if not (self._backward_hooks or self._forward_hooks or self._forward_pre_hooks or _global_backward_hooks\n\u001b[1;32m   1050\u001b[0m                 or _global_forward_hooks or _global_forward_pre_hooks):\n\u001b[0;32m-> 1051\u001b[0;31m             \u001b[0;32mreturn\u001b[0m \u001b[0mforward_call\u001b[0m\u001b[0;34m(\u001b[0m\u001b[0;34m*\u001b[0m\u001b[0minput\u001b[0m\u001b[0;34m,\u001b[0m \u001b[0;34m**\u001b[0m\u001b[0mkwargs\u001b[0m\u001b[0;34m)\u001b[0m\u001b[0;34m\u001b[0m\u001b[0;34m\u001b[0m\u001b[0m\n\u001b[0m\u001b[1;32m   1052\u001b[0m         \u001b[0;31m# Do not call functions when jit is used\u001b[0m\u001b[0;34m\u001b[0m\u001b[0;34m\u001b[0m\u001b[0;34m\u001b[0m\u001b[0m\n\u001b[1;32m   1053\u001b[0m         \u001b[0mfull_backward_hooks\u001b[0m\u001b[0;34m,\u001b[0m \u001b[0mnon_full_backward_hooks\u001b[0m \u001b[0;34m=\u001b[0m \u001b[0;34m[\u001b[0m\u001b[0;34m]\u001b[0m\u001b[0;34m,\u001b[0m \u001b[0;34m[\u001b[0m\u001b[0;34m]\u001b[0m\u001b[0;34m\u001b[0m\u001b[0;34m\u001b[0m\u001b[0m\n",
            "\u001b[0;32m/usr/local/lib/python3.7/dist-packages/torch/nn/modules/conv.py\u001b[0m in \u001b[0;36mforward\u001b[0;34m(self, input)\u001b[0m\n\u001b[1;32m    441\u001b[0m \u001b[0;34m\u001b[0m\u001b[0m\n\u001b[1;32m    442\u001b[0m     \u001b[0;32mdef\u001b[0m \u001b[0mforward\u001b[0m\u001b[0;34m(\u001b[0m\u001b[0mself\u001b[0m\u001b[0;34m,\u001b[0m \u001b[0minput\u001b[0m\u001b[0;34m:\u001b[0m \u001b[0mTensor\u001b[0m\u001b[0;34m)\u001b[0m \u001b[0;34m->\u001b[0m \u001b[0mTensor\u001b[0m\u001b[0;34m:\u001b[0m\u001b[0;34m\u001b[0m\u001b[0;34m\u001b[0m\u001b[0m\n\u001b[0;32m--> 443\u001b[0;31m         \u001b[0;32mreturn\u001b[0m \u001b[0mself\u001b[0m\u001b[0;34m.\u001b[0m\u001b[0m_conv_forward\u001b[0m\u001b[0;34m(\u001b[0m\u001b[0minput\u001b[0m\u001b[0;34m,\u001b[0m \u001b[0mself\u001b[0m\u001b[0;34m.\u001b[0m\u001b[0mweight\u001b[0m\u001b[0;34m,\u001b[0m \u001b[0mself\u001b[0m\u001b[0;34m.\u001b[0m\u001b[0mbias\u001b[0m\u001b[0;34m)\u001b[0m\u001b[0;34m\u001b[0m\u001b[0;34m\u001b[0m\u001b[0m\n\u001b[0m\u001b[1;32m    444\u001b[0m \u001b[0;34m\u001b[0m\u001b[0m\n\u001b[1;32m    445\u001b[0m \u001b[0;32mclass\u001b[0m \u001b[0mConv3d\u001b[0m\u001b[0;34m(\u001b[0m\u001b[0m_ConvNd\u001b[0m\u001b[0;34m)\u001b[0m\u001b[0;34m:\u001b[0m\u001b[0;34m\u001b[0m\u001b[0;34m\u001b[0m\u001b[0m\n",
            "\u001b[0;32m/usr/local/lib/python3.7/dist-packages/torch/nn/modules/conv.py\u001b[0m in \u001b[0;36m_conv_forward\u001b[0;34m(self, input, weight, bias)\u001b[0m\n\u001b[1;32m    438\u001b[0m                             _pair(0), self.dilation, self.groups)\n\u001b[1;32m    439\u001b[0m         return F.conv2d(input, weight, bias, self.stride,\n\u001b[0;32m--> 440\u001b[0;31m                         self.padding, self.dilation, self.groups)\n\u001b[0m\u001b[1;32m    441\u001b[0m \u001b[0;34m\u001b[0m\u001b[0m\n\u001b[1;32m    442\u001b[0m     \u001b[0;32mdef\u001b[0m \u001b[0mforward\u001b[0m\u001b[0;34m(\u001b[0m\u001b[0mself\u001b[0m\u001b[0;34m,\u001b[0m \u001b[0minput\u001b[0m\u001b[0;34m:\u001b[0m \u001b[0mTensor\u001b[0m\u001b[0;34m)\u001b[0m \u001b[0;34m->\u001b[0m \u001b[0mTensor\u001b[0m\u001b[0;34m:\u001b[0m\u001b[0;34m\u001b[0m\u001b[0;34m\u001b[0m\u001b[0m\n",
            "\u001b[0;31mRuntimeError\u001b[0m: Given groups=1, weight of size [64, 3, 7, 7], expected input[1, 1, 220, 220] to have 3 channels, but got 1 channels instead"
          ]
        }
      ]
    },
    {
      "cell_type": "code",
      "metadata": {
        "id": "_6RUvpt3P4Co"
      },
      "source": [
        "# The second loader is typically used for the face verification task: each sample is a pair of two picture belonging or not to the same person:\n",
        "from sklearn.datasets import fetch_lfw_pairs"
      ],
      "execution_count": 8,
      "outputs": []
    },
    {
      "cell_type": "code",
      "metadata": {
        "id": "qN6jxJYqQH0i"
      },
      "source": [
        "lfw_pairs_train = fetch_lfw_pairs(subset='train')"
      ],
      "execution_count": 9,
      "outputs": []
    },
    {
      "cell_type": "code",
      "metadata": {
        "colab": {
          "base_uri": "https://localhost:8080/"
        },
        "id": "vUFPciYpVGNF",
        "outputId": "af4a63a5-10f7-4dbe-df89-12d1080cd459"
      },
      "source": [
        "lfw_pairs_train"
      ],
      "execution_count": 24,
      "outputs": [
        {
          "output_type": "execute_result",
          "data": {
            "text/plain": [
              "{'DESCR': \".. _labeled_faces_in_the_wild_dataset:\\n\\nThe Labeled Faces in the Wild face recognition dataset\\n------------------------------------------------------\\n\\nThis dataset is a collection of JPEG pictures of famous people collected\\nover the internet, all details are available on the official website:\\n\\n    http://vis-www.cs.umass.edu/lfw/\\n\\nEach picture is centered on a single face. The typical task is called\\nFace Verification: given a pair of two pictures, a binary classifier\\nmust predict whether the two images are from the same person.\\n\\nAn alternative task, Face Recognition or Face Identification is:\\ngiven the picture of the face of an unknown person, identify the name\\nof the person by referring to a gallery of previously seen pictures of\\nidentified persons.\\n\\nBoth Face Verification and Face Recognition are tasks that are typically\\nperformed on the output of a model trained to perform Face Detection. The\\nmost popular model for Face Detection is called Viola-Jones and is\\nimplemented in the OpenCV library. The LFW faces were extracted by this\\nface detector from various online websites.\\n\\n**Data Set Characteristics:**\\n\\n    =================   =======================\\n    Classes                                5749\\n    Samples total                         13233\\n    Dimensionality                         5828\\n    Features            real, between 0 and 255\\n    =================   =======================\\n\\nUsage\\n~~~~~\\n\\n``scikit-learn`` provides two loaders that will automatically download,\\ncache, parse the metadata files, decode the jpeg and convert the\\ninteresting slices into memmapped numpy arrays. This dataset size is more\\nthan 200 MB. The first load typically takes more than a couple of minutes\\nto fully decode the relevant part of the JPEG files into numpy arrays. If\\nthe dataset has  been loaded once, the following times the loading times\\nless than 200ms by using a memmapped version memoized on the disk in the\\n``~/scikit_learn_data/lfw_home/`` folder using ``joblib``.\\n\\nThe first loader is used for the Face Identification task: a multi-class\\nclassification task (hence supervised learning)::\\n\\n  >>> from sklearn.datasets import fetch_lfw_people\\n  >>> lfw_people = fetch_lfw_people(min_faces_per_person=70, resize=0.4)\\n\\n  >>> for name in lfw_people.target_names:\\n  ...     print(name)\\n  ...\\n  Ariel Sharon\\n  Colin Powell\\n  Donald Rumsfeld\\n  George W Bush\\n  Gerhard Schroeder\\n  Hugo Chavez\\n  Tony Blair\\n\\nThe default slice is a rectangular shape around the face, removing\\nmost of the background::\\n\\n  >>> lfw_people.data.dtype\\n  dtype('float32')\\n\\n  >>> lfw_people.data.shape\\n  (1288, 1850)\\n\\n  >>> lfw_people.images.shape\\n  (1288, 50, 37)\\n\\nEach of the ``1140`` faces is assigned to a single person id in the ``target``\\narray::\\n\\n  >>> lfw_people.target.shape\\n  (1288,)\\n\\n  >>> list(lfw_people.target[:10])\\n  [5, 6, 3, 1, 0, 1, 3, 4, 3, 0]\\n\\nThe second loader is typically used for the face verification task: each sample\\nis a pair of two picture belonging or not to the same person::\\n\\n  >>> from sklearn.datasets import fetch_lfw_pairs\\n  >>> lfw_pairs_train = fetch_lfw_pairs(subset='train')\\n\\n  >>> list(lfw_pairs_train.target_names)\\n  ['Different persons', 'Same person']\\n\\n  >>> lfw_pairs_train.pairs.shape\\n  (2200, 2, 62, 47)\\n\\n  >>> lfw_pairs_train.data.shape\\n  (2200, 5828)\\n\\n  >>> lfw_pairs_train.target.shape\\n  (2200,)\\n\\nBoth for the :func:`sklearn.datasets.fetch_lfw_people` and\\n:func:`sklearn.datasets.fetch_lfw_pairs` function it is\\npossible to get an additional dimension with the RGB color channels by\\npassing ``color=True``, in that case the shape will be\\n``(2200, 2, 62, 47, 3)``.\\n\\nThe :func:`sklearn.datasets.fetch_lfw_pairs` datasets is subdivided into\\n3 subsets: the development ``train`` set, the development ``test`` set and\\nan evaluation ``10_folds`` set meant to compute performance metrics using a\\n10-folds cross validation scheme.\\n\\n.. topic:: References:\\n\\n * `Labeled Faces in the Wild: A Database for Studying Face Recognition\\n   in Unconstrained Environments.\\n   <http://vis-www.cs.umass.edu/lfw/lfw.pdf>`_\\n   Gary B. Huang, Manu Ramesh, Tamara Berg, and Erik Learned-Miller.\\n   University of Massachusetts, Amherst, Technical Report 07-49, October, 2007.\\n\\n\\nExamples\\n~~~~~~~~\\n\\n:ref:`sphx_glr_auto_examples_applications_plot_face_recognition.py`\\n\",\n",
              " 'data': array([[ 73.666664,  70.666664,  81.666664, ..., 225.66667 , 229.66667 ,\n",
              "         233.33333 ],\n",
              "        [ 86.333336, 113.333336, 133.33333 , ..., 106.      , 114.333336,\n",
              "         122.333336],\n",
              "        [ 37.333332,  35.333332,  34.      , ...,  51.333332,  52.333332,\n",
              "          52.      ],\n",
              "        ...,\n",
              "        [ 73.      ,  94.333336, 121.333336, ...,  64.      ,  71.      ,\n",
              "          82.333336],\n",
              "        [119.      , 110.333336, 112.666664, ..., 145.33333 , 130.      ,\n",
              "         102.333336],\n",
              "        [ 23.333334,  20.      ,  23.333334, ..., 146.33333 , 151.      ,\n",
              "         159.      ]], dtype=float32),\n",
              " 'pairs': array([[[[ 73.666664,  70.666664,  81.666664, ..., 119.      ,\n",
              "           118.      , 118.333336],\n",
              "          [ 70.      ,  70.666664,  85.666664, ..., 117.      ,\n",
              "           111.666664, 106.666664],\n",
              "          [ 71.333336,  77.      ,  97.333336, ..., 116.      ,\n",
              "           114.      , 108.333336],\n",
              "          ...,\n",
              "          [154.33333 , 148.      , 162.33333 , ..., 155.33333 ,\n",
              "           159.      , 192.33333 ],\n",
              "          [165.      , 150.33333 , 151.      , ..., 154.33333 ,\n",
              "           157.66667 , 177.66667 ],\n",
              "          [162.66667 , 161.33333 , 149.66667 , ..., 152.      ,\n",
              "           159.66667 , 155.      ]],\n",
              " \n",
              "         [[ 66.      ,  74.333336,  84.333336, ...,  68.333336,\n",
              "            54.333332,  40.      ],\n",
              "          [ 70.      ,  70.      ,  76.      , ...,  70.      ,\n",
              "            59.666668,  49.333332],\n",
              "          [ 63.666668,  66.666664,  80.      , ...,  78.333336,\n",
              "            68.333336,  61.666668],\n",
              "          ...,\n",
              "          [101.666664, 104.      , 106.333336, ..., 218.33333 ,\n",
              "           224.33333 , 230.      ],\n",
              "          [100.      , 102.      , 105.      , ..., 222.66667 ,\n",
              "           227.      , 231.66667 ],\n",
              "          [ 99.666664, 101.333336, 104.333336, ..., 225.66667 ,\n",
              "           229.66667 , 233.33333 ]]],\n",
              " \n",
              " \n",
              "        [[[ 86.333336, 113.333336, 133.33333 , ...,  68.333336,\n",
              "            79.      ,  85.333336],\n",
              "          [103.666664, 127.333336, 142.      , ...,  73.333336,\n",
              "            82.666664,  76.      ],\n",
              "          [121.      , 138.33333 , 147.      , ...,  71.666664,\n",
              "            92.666664, 101.666664],\n",
              "          ...,\n",
              "          [102.333336, 104.333336, 116.333336, ..., 168.33333 ,\n",
              "            93.333336,  49.333332],\n",
              "          [102.666664, 102.333336, 112.333336, ..., 171.      ,\n",
              "            94.      ,  49.      ],\n",
              "          [103.666664, 103.      , 107.666664, ..., 157.66667 ,\n",
              "            87.333336,  49.666668]],\n",
              " \n",
              "         [[109.      ,  92.666664, 114.333336, ...,  27.666666,\n",
              "            22.      ,   8.666667],\n",
              "          [141.      , 139.33333 , 126.333336, ...,  31.      ,\n",
              "            28.      ,  11.666667],\n",
              "          [153.33333 , 173.      , 154.66667 , ...,  22.666666,\n",
              "            15.666667,   9.333333],\n",
              "          ...,\n",
              "          [102.666664, 101.      , 100.      , ..., 101.333336,\n",
              "           102.      , 103.666664],\n",
              "          [ 99.      ,  97.333336,  97.333336, ..., 100.666664,\n",
              "           104.333336, 115.666664],\n",
              "          [ 92.666664,  91.      ,  92.333336, ..., 106.      ,\n",
              "           114.333336, 122.333336]]],\n",
              " \n",
              " \n",
              "        [[[ 37.333332,  35.333332,  34.      , ...,  62.333332,\n",
              "            57.333332,  56.333332],\n",
              "          [ 42.333332,  39.      ,  29.666666, ...,  65.333336,\n",
              "            60.      ,  57.333332],\n",
              "          [ 45.333332,  43.333332,  29.333334, ...,  71.      ,\n",
              "            62.666668,  55.333332],\n",
              "          ...,\n",
              "          [ 36.333332,  68.      ,  89.      , ..., 202.33333 ,\n",
              "           208.33333 , 209.66667 ],\n",
              "          [ 26.333334,  59.333332,  87.333336, ..., 196.      ,\n",
              "           199.66667 , 204.      ],\n",
              "          [ 21.      ,  52.      ,  81.333336, ..., 192.33333 ,\n",
              "           197.      , 198.      ]],\n",
              " \n",
              "         [[ 24.      ,  28.333334,  32.      , ...,  87.      ,\n",
              "            75.666664,  76.333336],\n",
              "          [ 24.      ,  26.      ,  27.      , ...,  92.      ,\n",
              "            69.333336,  63.333332],\n",
              "          [ 25.      ,  25.      ,  22.333334, ...,  92.666664,\n",
              "            74.666664,  58.333332],\n",
              "          ...,\n",
              "          [ 53.      ,  57.333332,  56.      , ...,  52.      ,\n",
              "            52.      ,  50.666668],\n",
              "          [ 56.      ,  60.333332,  59.333332, ...,  51.333332,\n",
              "            52.      ,  51.333332],\n",
              "          [ 58.      ,  63.      ,  61.666668, ...,  51.333332,\n",
              "            52.333332,  52.      ]]],\n",
              " \n",
              " \n",
              "        ...,\n",
              " \n",
              " \n",
              "        [[[ 73.      ,  94.333336, 121.333336, ...,  77.333336,\n",
              "            58.666668,  54.666668],\n",
              "          [ 81.      , 105.666664, 124.666664, ...,  91.666664,\n",
              "            71.333336,  63.333332],\n",
              "          [ 78.      , 113.333336, 128.66667 , ..., 100.333336,\n",
              "            78.333336,  66.      ],\n",
              "          ...,\n",
              "          [ 55.666668,  54.666668,  58.666668, ..., 227.      ,\n",
              "           228.      , 230.      ],\n",
              "          [ 54.666668,  50.666668,  51.      , ..., 229.33333 ,\n",
              "           229.      , 231.      ],\n",
              "          [ 60.333332,  53.666668,  49.      , ..., 226.66667 ,\n",
              "           229.      , 227.66667 ]],\n",
              " \n",
              "         [[ 23.      ,  20.333334,  21.333334, ..., 107.      ,\n",
              "            93.      ,  89.      ],\n",
              "          [ 22.333334,  21.      ,  22.333334, ..., 108.666664,\n",
              "            94.666664,  92.      ],\n",
              "          [ 22.333334,  22.666666,  24.333334, ..., 107.666664,\n",
              "            95.666664,  92.      ],\n",
              "          ...,\n",
              "          [ 26.333334,  34.333332,  42.333332, ...,  61.333332,\n",
              "            62.666668,  64.      ],\n",
              "          [ 18.      ,  23.666666,  32.333332, ...,  68.      ,\n",
              "            69.666664,  70.666664],\n",
              "          [  9.666667,  16.666666,  27.      , ...,  64.      ,\n",
              "            71.      ,  82.333336]]],\n",
              " \n",
              " \n",
              "        [[[119.      , 110.333336, 112.666664, ...,  90.333336,\n",
              "            88.666664,  80.      ],\n",
              "          [110.      , 100.      ,  98.333336, ..., 102.      ,\n",
              "            95.333336,  86.333336],\n",
              "          [113.      , 108.333336, 105.666664, ..., 117.333336,\n",
              "           105.333336,  93.666664],\n",
              "          ...,\n",
              "          [216.      , 219.33333 , 223.33333 , ..., 249.33333 ,\n",
              "           249.33333 , 245.33333 ],\n",
              "          [220.      , 225.      , 229.33333 , ..., 248.33333 ,\n",
              "           246.66667 , 235.66667 ],\n",
              "          [224.66667 , 229.33333 , 232.66667 , ..., 244.33333 ,\n",
              "           239.66667 , 230.33333 ]],\n",
              " \n",
              "         [[106.333336,  94.333336,  88.333336, ..., 111.333336,\n",
              "           104.      , 100.333336],\n",
              "          [105.333336,  92.333336,  92.333336, ..., 110.      ,\n",
              "           106.      , 105.      ],\n",
              "          [104.666664,  90.333336,  94.      , ..., 111.333336,\n",
              "           107.      , 106.666664],\n",
              "          ...,\n",
              "          [105.333336, 104.333336, 102.333336, ..., 134.66667 ,\n",
              "           142.33333 , 127.666664],\n",
              "          [ 66.666664,  64.      ,  60.333332, ..., 141.33333 ,\n",
              "           139.33333 , 116.666664],\n",
              "          [ 20.666666,  19.      ,  16.666666, ..., 145.33333 ,\n",
              "           130.      , 102.333336]]],\n",
              " \n",
              " \n",
              "        [[[ 23.333334,  20.      ,  23.333334, ...,  53.333332,\n",
              "            67.      ,  67.666664],\n",
              "          [ 25.      ,  21.      ,  21.333334, ...,  53.      ,\n",
              "            58.666668,  59.666668],\n",
              "          [ 49.333332,  33.      ,  25.666666, ...,  58.      ,\n",
              "            52.666668,  45.      ],\n",
              "          ...,\n",
              "          [154.33333 , 147.      , 119.666664, ..., 196.66667 ,\n",
              "           177.33333 , 123.333336],\n",
              "          [154.      , 153.      , 144.33333 , ..., 192.      ,\n",
              "           188.      , 159.33333 ],\n",
              "          [157.33333 , 156.      , 153.33333 , ..., 190.33333 ,\n",
              "           187.66667 , 174.66667 ]],\n",
              " \n",
              "         [[ 34.666668,  44.666668,  70.      , ...,  42.666668,\n",
              "            49.333332,  56.      ],\n",
              "          [ 40.      ,  55.      ,  83.      , ...,  36.333332,\n",
              "            47.      ,  56.      ],\n",
              "          [ 41.666668,  66.333336,  89.      , ...,  33.333332,\n",
              "            47.      ,  56.333332],\n",
              "          ...,\n",
              "          [ 69.      ,  80.666664,  74.      , ..., 151.33333 ,\n",
              "           155.66667 , 159.33333 ],\n",
              "          [ 66.333336,  75.      ,  72.333336, ..., 148.66667 ,\n",
              "           154.      , 160.      ],\n",
              "          [ 65.      ,  73.666664,  72.333336, ..., 146.33333 ,\n",
              "           151.      , 159.      ]]]], dtype=float32),\n",
              " 'target': array([1, 1, 1, ..., 0, 0, 0]),\n",
              " 'target_names': array(['Different persons', 'Same person'], dtype='<U17')}"
            ]
          },
          "metadata": {},
          "execution_count": 24
        }
      ]
    },
    {
      "cell_type": "code",
      "metadata": {
        "colab": {
          "base_uri": "https://localhost:8080/"
        },
        "id": "_O0Qxt-PQPyi",
        "outputId": "bdb9f95b-f213-4b4b-90a6-6075c43118b6"
      },
      "source": [
        "list(lfw_pairs_train.target_names)"
      ],
      "execution_count": 10,
      "outputs": [
        {
          "output_type": "execute_result",
          "data": {
            "text/plain": [
              "['Different persons', 'Same person']"
            ]
          },
          "metadata": {},
          "execution_count": 10
        }
      ]
    },
    {
      "cell_type": "code",
      "metadata": {
        "colab": {
          "base_uri": "https://localhost:8080/"
        },
        "id": "83nWjVjgQW9x",
        "outputId": "9877a60f-6dfc-4b4b-c427-a593af1de931"
      },
      "source": [
        "lfw_pairs_train.pairs.shape"
      ],
      "execution_count": 11,
      "outputs": [
        {
          "output_type": "execute_result",
          "data": {
            "text/plain": [
              "(2200, 2, 62, 47)"
            ]
          },
          "metadata": {},
          "execution_count": 11
        }
      ]
    },
    {
      "cell_type": "code",
      "metadata": {
        "colab": {
          "base_uri": "https://localhost:8080/"
        },
        "id": "0D5ELXdVQdtD",
        "outputId": "9e92c19e-deac-4a71-a77e-3f57d67dca03"
      },
      "source": [
        "lfw_pairs_train.data.shape"
      ],
      "execution_count": 12,
      "outputs": [
        {
          "output_type": "execute_result",
          "data": {
            "text/plain": [
              "(2200, 5828)"
            ]
          },
          "metadata": {},
          "execution_count": 12
        }
      ]
    },
    {
      "cell_type": "code",
      "metadata": {
        "colab": {
          "base_uri": "https://localhost:8080/"
        },
        "id": "ZTs-FYO_QixR",
        "outputId": "2f155343-64ed-47e6-b3f7-ee45c3207828"
      },
      "source": [
        "lfw_pairs_train.target.shape"
      ],
      "execution_count": 13,
      "outputs": [
        {
          "output_type": "execute_result",
          "data": {
            "text/plain": [
              "(2200,)"
            ]
          },
          "metadata": {},
          "execution_count": 13
        }
      ]
    },
    {
      "cell_type": "code",
      "metadata": {
        "id": "njLOv5fWQnPM"
      },
      "source": [
        ""
      ],
      "execution_count": null,
      "outputs": []
    }
  ]
}